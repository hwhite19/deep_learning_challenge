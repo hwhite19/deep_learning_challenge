{
  "cells": [
    {
      "cell_type": "markdown",
      "metadata": {
        "id": "1CRGkVUOcnvc"
      },
      "source": [
        "## Optimize the Model\n"
      ]
    },
    {
      "cell_type": "code",
      "execution_count": 1,
      "metadata": {
        "colab": {
          "base_uri": "https://localhost:8080/",
          "height": 371
        },
        "id": "BLhcSleWcnvg",
        "outputId": "684d65ef-ac43-478f-da0f-79b69f1789f6"
      },
      "outputs": [
        {
          "output_type": "execute_result",
          "data": {
            "text/html": [
              "\n",
              "  <div id=\"df-85c9935a-2296-4e80-9674-d28da61aad90\">\n",
              "    <div class=\"colab-df-container\">\n",
              "      <div>\n",
              "<style scoped>\n",
              "    .dataframe tbody tr th:only-of-type {\n",
              "        vertical-align: middle;\n",
              "    }\n",
              "\n",
              "    .dataframe tbody tr th {\n",
              "        vertical-align: top;\n",
              "    }\n",
              "\n",
              "    .dataframe thead th {\n",
              "        text-align: right;\n",
              "    }\n",
              "</style>\n",
              "<table border=\"1\" class=\"dataframe\">\n",
              "  <thead>\n",
              "    <tr style=\"text-align: right;\">\n",
              "      <th></th>\n",
              "      <th>EIN</th>\n",
              "      <th>NAME</th>\n",
              "      <th>APPLICATION_TYPE</th>\n",
              "      <th>AFFILIATION</th>\n",
              "      <th>CLASSIFICATION</th>\n",
              "      <th>USE_CASE</th>\n",
              "      <th>ORGANIZATION</th>\n",
              "      <th>STATUS</th>\n",
              "      <th>INCOME_AMT</th>\n",
              "      <th>SPECIAL_CONSIDERATIONS</th>\n",
              "      <th>ASK_AMT</th>\n",
              "      <th>IS_SUCCESSFUL</th>\n",
              "    </tr>\n",
              "  </thead>\n",
              "  <tbody>\n",
              "    <tr>\n",
              "      <th>0</th>\n",
              "      <td>10520599</td>\n",
              "      <td>BLUE KNIGHTS MOTORCYCLE CLUB</td>\n",
              "      <td>T10</td>\n",
              "      <td>Independent</td>\n",
              "      <td>C1000</td>\n",
              "      <td>ProductDev</td>\n",
              "      <td>Association</td>\n",
              "      <td>1</td>\n",
              "      <td>0</td>\n",
              "      <td>N</td>\n",
              "      <td>5000</td>\n",
              "      <td>1</td>\n",
              "    </tr>\n",
              "    <tr>\n",
              "      <th>1</th>\n",
              "      <td>10531628</td>\n",
              "      <td>AMERICAN CHESAPEAKE CLUB CHARITABLE TR</td>\n",
              "      <td>T3</td>\n",
              "      <td>Independent</td>\n",
              "      <td>C2000</td>\n",
              "      <td>Preservation</td>\n",
              "      <td>Co-operative</td>\n",
              "      <td>1</td>\n",
              "      <td>1-9999</td>\n",
              "      <td>N</td>\n",
              "      <td>108590</td>\n",
              "      <td>1</td>\n",
              "    </tr>\n",
              "    <tr>\n",
              "      <th>2</th>\n",
              "      <td>10547893</td>\n",
              "      <td>ST CLOUD PROFESSIONAL FIREFIGHTERS</td>\n",
              "      <td>T5</td>\n",
              "      <td>CompanySponsored</td>\n",
              "      <td>C3000</td>\n",
              "      <td>ProductDev</td>\n",
              "      <td>Association</td>\n",
              "      <td>1</td>\n",
              "      <td>0</td>\n",
              "      <td>N</td>\n",
              "      <td>5000</td>\n",
              "      <td>0</td>\n",
              "    </tr>\n",
              "    <tr>\n",
              "      <th>3</th>\n",
              "      <td>10553066</td>\n",
              "      <td>SOUTHSIDE ATHLETIC ASSOCIATION</td>\n",
              "      <td>T3</td>\n",
              "      <td>CompanySponsored</td>\n",
              "      <td>C2000</td>\n",
              "      <td>Preservation</td>\n",
              "      <td>Trust</td>\n",
              "      <td>1</td>\n",
              "      <td>10000-24999</td>\n",
              "      <td>N</td>\n",
              "      <td>6692</td>\n",
              "      <td>1</td>\n",
              "    </tr>\n",
              "    <tr>\n",
              "      <th>4</th>\n",
              "      <td>10556103</td>\n",
              "      <td>GENETIC RESEARCH INSTITUTE OF THE DESERT</td>\n",
              "      <td>T3</td>\n",
              "      <td>Independent</td>\n",
              "      <td>C1000</td>\n",
              "      <td>Heathcare</td>\n",
              "      <td>Trust</td>\n",
              "      <td>1</td>\n",
              "      <td>100000-499999</td>\n",
              "      <td>N</td>\n",
              "      <td>142590</td>\n",
              "      <td>1</td>\n",
              "    </tr>\n",
              "  </tbody>\n",
              "</table>\n",
              "</div>\n",
              "      <button class=\"colab-df-convert\" onclick=\"convertToInteractive('df-85c9935a-2296-4e80-9674-d28da61aad90')\"\n",
              "              title=\"Convert this dataframe to an interactive table.\"\n",
              "              style=\"display:none;\">\n",
              "        \n",
              "  <svg xmlns=\"http://www.w3.org/2000/svg\" height=\"24px\"viewBox=\"0 0 24 24\"\n",
              "       width=\"24px\">\n",
              "    <path d=\"M0 0h24v24H0V0z\" fill=\"none\"/>\n",
              "    <path d=\"M18.56 5.44l.94 2.06.94-2.06 2.06-.94-2.06-.94-.94-2.06-.94 2.06-2.06.94zm-11 1L8.5 8.5l.94-2.06 2.06-.94-2.06-.94L8.5 2.5l-.94 2.06-2.06.94zm10 10l.94 2.06.94-2.06 2.06-.94-2.06-.94-.94-2.06-.94 2.06-2.06.94z\"/><path d=\"M17.41 7.96l-1.37-1.37c-.4-.4-.92-.59-1.43-.59-.52 0-1.04.2-1.43.59L10.3 9.45l-7.72 7.72c-.78.78-.78 2.05 0 2.83L4 21.41c.39.39.9.59 1.41.59.51 0 1.02-.2 1.41-.59l7.78-7.78 2.81-2.81c.8-.78.8-2.07 0-2.86zM5.41 20L4 18.59l7.72-7.72 1.47 1.35L5.41 20z\"/>\n",
              "  </svg>\n",
              "      </button>\n",
              "      \n",
              "  <style>\n",
              "    .colab-df-container {\n",
              "      display:flex;\n",
              "      flex-wrap:wrap;\n",
              "      gap: 12px;\n",
              "    }\n",
              "\n",
              "    .colab-df-convert {\n",
              "      background-color: #E8F0FE;\n",
              "      border: none;\n",
              "      border-radius: 50%;\n",
              "      cursor: pointer;\n",
              "      display: none;\n",
              "      fill: #1967D2;\n",
              "      height: 32px;\n",
              "      padding: 0 0 0 0;\n",
              "      width: 32px;\n",
              "    }\n",
              "\n",
              "    .colab-df-convert:hover {\n",
              "      background-color: #E2EBFA;\n",
              "      box-shadow: 0px 1px 2px rgba(60, 64, 67, 0.3), 0px 1px 3px 1px rgba(60, 64, 67, 0.15);\n",
              "      fill: #174EA6;\n",
              "    }\n",
              "\n",
              "    [theme=dark] .colab-df-convert {\n",
              "      background-color: #3B4455;\n",
              "      fill: #D2E3FC;\n",
              "    }\n",
              "\n",
              "    [theme=dark] .colab-df-convert:hover {\n",
              "      background-color: #434B5C;\n",
              "      box-shadow: 0px 1px 3px 1px rgba(0, 0, 0, 0.15);\n",
              "      filter: drop-shadow(0px 1px 2px rgba(0, 0, 0, 0.3));\n",
              "      fill: #FFFFFF;\n",
              "    }\n",
              "  </style>\n",
              "\n",
              "      <script>\n",
              "        const buttonEl =\n",
              "          document.querySelector('#df-85c9935a-2296-4e80-9674-d28da61aad90 button.colab-df-convert');\n",
              "        buttonEl.style.display =\n",
              "          google.colab.kernel.accessAllowed ? 'block' : 'none';\n",
              "\n",
              "        async function convertToInteractive(key) {\n",
              "          const element = document.querySelector('#df-85c9935a-2296-4e80-9674-d28da61aad90');\n",
              "          const dataTable =\n",
              "            await google.colab.kernel.invokeFunction('convertToInteractive',\n",
              "                                                     [key], {});\n",
              "          if (!dataTable) return;\n",
              "\n",
              "          const docLinkHtml = 'Like what you see? Visit the ' +\n",
              "            '<a target=\"_blank\" href=https://colab.research.google.com/notebooks/data_table.ipynb>data table notebook</a>'\n",
              "            + ' to learn more about interactive tables.';\n",
              "          element.innerHTML = '';\n",
              "          dataTable['output_type'] = 'display_data';\n",
              "          await google.colab.output.renderOutput(dataTable, element);\n",
              "          const docLink = document.createElement('div');\n",
              "          docLink.innerHTML = docLinkHtml;\n",
              "          element.appendChild(docLink);\n",
              "        }\n",
              "      </script>\n",
              "    </div>\n",
              "  </div>\n",
              "  "
            ],
            "text/plain": [
              "        EIN                                      NAME  ... ASK_AMT IS_SUCCESSFUL\n",
              "0  10520599              BLUE KNIGHTS MOTORCYCLE CLUB  ...    5000             1\n",
              "1  10531628    AMERICAN CHESAPEAKE CLUB CHARITABLE TR  ...  108590             1\n",
              "2  10547893        ST CLOUD PROFESSIONAL FIREFIGHTERS  ...    5000             0\n",
              "3  10553066            SOUTHSIDE ATHLETIC ASSOCIATION  ...    6692             1\n",
              "4  10556103  GENETIC RESEARCH INSTITUTE OF THE DESERT  ...  142590             1\n",
              "\n",
              "[5 rows x 12 columns]"
            ]
          },
          "metadata": {},
          "execution_count": 1
        }
      ],
      "source": [
        "# Import our dependencies\n",
        "from sklearn.model_selection import train_test_split\n",
        "from sklearn.preprocessing import StandardScaler\n",
        "import pandas as pd\n",
        "import tensorflow as tf\n",
        "\n",
        "#  Import and read the charity_data.csv.\n",
        "import pandas as pd \n",
        "application_df = pd.read_csv(\"charity_data.csv\")\n",
        "application_df.head()"
      ]
    },
    {
      "cell_type": "code",
      "source": [
        "# Drop the non-beneficial EIN column\n"
      ],
      "metadata": {
        "colab": {
          "base_uri": "https://localhost:8080/"
        },
        "id": "4ZvOdqJvejyI",
        "outputId": "4628461b-12a1-45d9-826b-26f8a2f45fcb"
      },
      "execution_count": 2,
      "outputs": [
        {
          "output_type": "stream",
          "name": "stderr",
          "text": [
            "/usr/local/lib/python3.7/dist-packages/ipykernel_launcher.py:2: FutureWarning: In a future version of pandas all arguments of DataFrame.drop except for the argument 'labels' will be keyword-only\n",
            "  \n"
          ]
        }
      ]
    },
    {
      "cell_type": "code",
      "source": [
        "# display the number of unique values\n",
        "\n"
      ],
      "metadata": {
        "colab": {
          "base_uri": "https://localhost:8080/"
        },
        "id": "dLnmFB8deuH2",
        "outputId": "e62627ce-dc75-4b27-9b61-ce91847f8ef1"
      },
      "execution_count": 3,
      "outputs": [
        {
          "output_type": "execute_result",
          "data": {
            "text/plain": [
              "NAME                      19568\n",
              "APPLICATION_TYPE             17\n",
              "AFFILIATION                   6\n",
              "CLASSIFICATION               71\n",
              "USE_CASE                      5\n",
              "ORGANIZATION                  4\n",
              "STATUS                        2\n",
              "INCOME_AMT                    9\n",
              "SPECIAL_CONSIDERATIONS        2\n",
              "ASK_AMT                    8747\n",
              "IS_SUCCESSFUL                 2\n",
              "dtype: int64"
            ]
          },
          "metadata": {},
          "execution_count": 3
        }
      ]
    },
    {
      "cell_type": "code",
      "source": [
        "# Look at NAME value counts for binning\n",
        "\n",
        "#  How many name counts are greater than 5?\n"
      ],
      "metadata": {
        "colab": {
          "base_uri": "https://localhost:8080/"
        },
        "id": "wSVFXH7WezZF",
        "outputId": "498e0ad2-fb95-4664-e1b8-61f24ce12e29"
      },
      "execution_count": 4,
      "outputs": [
        {
          "output_type": "execute_result",
          "data": {
            "text/plain": [
              "PARENT BOOSTER USA INC                             1260\n",
              "TOPS CLUB INC                                       765\n",
              "UNITED STATES BOWLING CONGRESS INC                  700\n",
              "WASHINGTON STATE UNIVERSITY                         492\n",
              "AMATEUR ATHLETIC UNION OF THE UNITED STATES INC     408\n",
              "                                                   ... \n",
              "OLD OAK CLIFF CONSERVATION LEAGUE INC                 6\n",
              "AMERICAN NEPHROLOGY NURSES ASSOCIATION                6\n",
              "HUMBLE ISD EDUCATIONAL SUPPORT GROUPS INC             6\n",
              "PROFESSIONAL LOADMASTER ASSOCIATION                   6\n",
              "CBMC INC                                              6\n",
              "Name: NAME, Length: 354, dtype: int64"
            ]
          },
          "metadata": {},
          "execution_count": 4
        }
      ]
    },
    {
      "cell_type": "code",
      "source": [
        "# Determine which values to replace if counts are less than or equal to 5.\n",
        "\n",
        "\n",
        "# Replace in dataframe\n",
        "\n",
        "    \n",
        "# Check to make sure binning was successful\n"
      ],
      "metadata": {
        "colab": {
          "base_uri": "https://localhost:8080/"
        },
        "id": "VIFtUiRTe3iG",
        "outputId": "30358f00-d5ec-4184-91bd-49b4a260017e"
      },
      "execution_count": 5,
      "outputs": [
        {
          "output_type": "execute_result",
          "data": {
            "text/plain": [
              "Other                                           20043\n",
              "PARENT BOOSTER USA INC                           1260\n",
              "TOPS CLUB INC                                     765\n",
              "UNITED STATES BOWLING CONGRESS INC                700\n",
              "WASHINGTON STATE UNIVERSITY                       492\n",
              "                                                ...  \n",
              "HABITAT FOR HUMANITY INTERNATIONAL                  6\n",
              "DAMAGE PREVENTION COUNCIL OF TEXAS                  6\n",
              "FLEET RESERVE ASSOCIATION                           6\n",
              "HUGH OBRIAN YOUTH LEADERSHIP                        6\n",
              "INTERNATIONAL CONGRESS OF CHURCHES MINISTERS        6\n",
              "Name: NAME, Length: 355, dtype: int64"
            ]
          },
          "metadata": {},
          "execution_count": 5
        }
      ]
    },
    {
      "cell_type": "code",
      "source": [
        "# Look at APPLICATION_TYPE value counts for binning\n"
      ],
      "metadata": {
        "colab": {
          "base_uri": "https://localhost:8080/"
        },
        "id": "pefev_j-e7vN",
        "outputId": "dc2cb145-7f8c-45f0-ae74-2388785fff1f"
      },
      "execution_count": 6,
      "outputs": [
        {
          "output_type": "execute_result",
          "data": {
            "text/plain": [
              "T3     27037\n",
              "T4      1542\n",
              "T6      1216\n",
              "T5      1173\n",
              "T19     1065\n",
              "T8       737\n",
              "T7       725\n",
              "T10      528\n",
              "T9       156\n",
              "T13       66\n",
              "T12       27\n",
              "T2        16\n",
              "T25        3\n",
              "T14        3\n",
              "T29        2\n",
              "T15        2\n",
              "T17        1\n",
              "Name: APPLICATION_TYPE, dtype: int64"
            ]
          },
          "metadata": {},
          "execution_count": 6
        }
      ]
    },
    {
      "cell_type": "code",
      "source": [
        "# Determine which values to replace if application counts are less than 500\n",
        "\n",
        "\n",
        "# Replace in dataframe\n",
        "\n",
        "# Check to make sure binning was successful\n"
      ],
      "metadata": {
        "colab": {
          "base_uri": "https://localhost:8080/"
        },
        "id": "qn1wg4bDfArL",
        "outputId": "a6eb854b-1953-4cfe-8ad0-668baaa5bff9"
      },
      "execution_count": 7,
      "outputs": [
        {
          "output_type": "execute_result",
          "data": {
            "text/plain": [
              "T3       27037\n",
              "T4        1542\n",
              "T6        1216\n",
              "T5        1173\n",
              "T19       1065\n",
              "T8         737\n",
              "T7         725\n",
              "T10        528\n",
              "Other      276\n",
              "Name: APPLICATION_TYPE, dtype: int64"
            ]
          },
          "metadata": {},
          "execution_count": 7
        }
      ]
    },
    {
      "cell_type": "code",
      "source": [
        "# Look at CLASSIFICATION value counts for binning\n"
      ],
      "metadata": {
        "colab": {
          "base_uri": "https://localhost:8080/"
        },
        "id": "w39XpIpcfi1l",
        "outputId": "97b78648-13b5-40f6-e5a3-accc1766b6f0"
      },
      "execution_count": 8,
      "outputs": [
        {
          "output_type": "execute_result",
          "data": {
            "text/plain": [
              "C1000    17326\n",
              "C2000     6074\n",
              "C1200     4837\n",
              "C3000     1918\n",
              "C2100     1883\n",
              "         ...  \n",
              "C4120        1\n",
              "C8210        1\n",
              "C2561        1\n",
              "C4500        1\n",
              "C2150        1\n",
              "Name: CLASSIFICATION, Length: 71, dtype: int64"
            ]
          },
          "metadata": {},
          "execution_count": 8
        }
      ]
    },
    {
      "cell_type": "code",
      "source": [
        "# Determine which values to replace if counts are less than 1000\n",
        "\n",
        "# Replace in dataframe\n",
        "\n",
        "    \n",
        "# Check to make sure binning was successful\n"
      ],
      "metadata": {
        "colab": {
          "base_uri": "https://localhost:8080/"
        },
        "id": "nvrGKKqZfuQF",
        "outputId": "f7c0f6d3-f6a2-47e0-a467-9068043a0ad3"
      },
      "execution_count": 9,
      "outputs": [
        {
          "output_type": "execute_result",
          "data": {
            "text/plain": [
              "C1000    17326\n",
              "C2000     6074\n",
              "C1200     4837\n",
              "Other     2261\n",
              "C3000     1918\n",
              "C2100     1883\n",
              "Name: CLASSIFICATION, dtype: int64"
            ]
          },
          "metadata": {},
          "execution_count": 9
        }
      ]
    },
    {
      "cell_type": "code",
      "source": [
        "# Generate our categorical variable lists\n"
      ],
      "metadata": {
        "colab": {
          "base_uri": "https://localhost:8080/"
        },
        "id": "yJ29pfUvgDDG",
        "outputId": "c22052be-7d1e-4bb0-b2a7-8486b7ae6b0a"
      },
      "execution_count": 10,
      "outputs": [
        {
          "output_type": "execute_result",
          "data": {
            "text/plain": [
              "['NAME',\n",
              " 'APPLICATION_TYPE',\n",
              " 'AFFILIATION',\n",
              " 'CLASSIFICATION',\n",
              " 'USE_CASE',\n",
              " 'ORGANIZATION',\n",
              " 'INCOME_AMT',\n",
              " 'SPECIAL_CONSIDERATIONS']"
            ]
          },
          "metadata": {},
          "execution_count": 10
        }
      ]
    },
    {
      "cell_type": "code",
      "source": [
        "# perform one-hot encoding on the data\n",
        "\n"
      ],
      "metadata": {
        "id": "wbGzUOEAgFcd"
      },
      "execution_count": 11,
      "outputs": []
    },
    {
      "cell_type": "code",
      "source": [
        "# Split our preprocessed data into our features and target arrays\n",
        "\n",
        "\n",
        "# Split the preprocessed data into a training and testing dataset\n"
      ],
      "metadata": {
        "id": "4annACb6gV0W"
      },
      "execution_count": 12,
      "outputs": []
    },
    {
      "cell_type": "code",
      "source": [
        "# Create a StandardScaler instances\n",
        "\n",
        "\n",
        "# Fit the StandardScaler\n",
        "\n",
        "\n",
        "# Scale the data\n"
      ],
      "metadata": {
        "id": "I1yFkAKygfT9"
      },
      "execution_count": 13,
      "outputs": []
    },
    {
      "cell_type": "code",
      "source": [
        "# Define the model - deep neural net\n",
        "number_input_features = len(X_train[0])\n",
        "hidden_nodes_layer1 =  100\n",
        "hidden_nodes_layer2 = 30\n",
        "hidden_nodes_layer3 = 10\n",
        "\n",
        "nn = tf.keras.models.Sequential()\n",
        "\n",
        "# First hidden layer\n",
        "nn.add(\n",
        "    tf.keras.layers.Dense(units=hidden_nodes_layer1, input_dim=number_input_features, activation=\"relu\")\n",
        ")\n",
        "\n",
        "# Second hidden layer\n",
        "nn.add(tf.keras.layers.Dense(units=hidden_nodes_layer2, activation=\"sigmoid\"))\n",
        "\n",
        "# Third hidden layer\n",
        "nn.add(tf.keras.layers.Dense(units=hidden_nodes_layer3, activation=\"sigmoid\"))\n",
        "\n",
        "# Output layer\n",
        "nn.add(tf.keras.layers.Dense(units=1, activation=\"sigmoid\"))\n",
        "\n",
        "# Check the structure of the model\n",
        "nn.summary()"
      ],
      "metadata": {
        "colab": {
          "base_uri": "https://localhost:8080/"
        },
        "id": "03MKKSa0hIvW",
        "outputId": "580f69c3-221f-4b03-c7d1-2379626e16f1"
      },
      "execution_count": 14,
      "outputs": [
        {
          "output_type": "stream",
          "name": "stdout",
          "text": [
            "Model: \"sequential\"\n",
            "_________________________________________________________________\n",
            " Layer (type)                Output Shape              Param #   \n",
            "=================================================================\n",
            " dense (Dense)               (None, 100)               39900     \n",
            "                                                                 \n",
            " dense_1 (Dense)             (None, 30)                3030      \n",
            "                                                                 \n",
            " dense_2 (Dense)             (None, 10)                310       \n",
            "                                                                 \n",
            " dense_3 (Dense)             (None, 1)                 11        \n",
            "                                                                 \n",
            "=================================================================\n",
            "Total params: 43,251\n",
            "Trainable params: 43,251\n",
            "Non-trainable params: 0\n",
            "_________________________________________________________________\n"
          ]
        }
      ]
    },
    {
      "cell_type": "code",
      "source": [
        "# Compile the model\n"
      ],
      "metadata": {
        "id": "fgDLjc1PhRM1"
      },
      "execution_count": 15,
      "outputs": []
    },
    {
      "cell_type": "code",
      "source": [
        "# Train the model\n"
      ],
      "metadata": {
        "colab": {
          "base_uri": "https://localhost:8080/"
        },
        "id": "sNkzxjPdhWWJ",
        "outputId": "52eeeaf4-5923-4d3a-b671-a879dab24cbc"
      },
      "execution_count": 16,
      "outputs": [
        {
          "output_type": "stream",
          "name": "stdout",
          "text": [
            "Epoch 1/100\n",
            "804/804 [==============================] - 3s 3ms/step - loss: 0.4899 - accuracy: 0.7732\n",
            "Epoch 2/100\n",
            "804/804 [==============================] - 2s 3ms/step - loss: 0.4415 - accuracy: 0.7929\n",
            "Epoch 3/100\n",
            "804/804 [==============================] - 2s 3ms/step - loss: 0.4344 - accuracy: 0.7942\n",
            "Epoch 4/100\n",
            "804/804 [==============================] - 2s 3ms/step - loss: 0.4299 - accuracy: 0.7961\n",
            "Epoch 5/100\n",
            "804/804 [==============================] - 2s 2ms/step - loss: 0.4274 - accuracy: 0.7975\n",
            "Epoch 6/100\n",
            "804/804 [==============================] - 2s 3ms/step - loss: 0.4256 - accuracy: 0.7980\n",
            "Epoch 7/100\n",
            "804/804 [==============================] - 2s 3ms/step - loss: 0.4235 - accuracy: 0.7986\n",
            "Epoch 8/100\n",
            "804/804 [==============================] - 2s 3ms/step - loss: 0.4225 - accuracy: 0.7979\n",
            "Epoch 9/100\n",
            "804/804 [==============================] - 2s 2ms/step - loss: 0.4217 - accuracy: 0.7983\n",
            "Epoch 10/100\n",
            "804/804 [==============================] - 2s 3ms/step - loss: 0.4204 - accuracy: 0.7998\n",
            "Epoch 11/100\n",
            "804/804 [==============================] - 2s 3ms/step - loss: 0.4194 - accuracy: 0.7993\n",
            "Epoch 12/100\n",
            "804/804 [==============================] - 2s 3ms/step - loss: 0.4193 - accuracy: 0.8012\n",
            "Epoch 13/100\n",
            "804/804 [==============================] - 2s 3ms/step - loss: 0.4184 - accuracy: 0.8000\n",
            "Epoch 14/100\n",
            "804/804 [==============================] - 2s 3ms/step - loss: 0.4174 - accuracy: 0.8014\n",
            "Epoch 15/100\n",
            "804/804 [==============================] - 2s 3ms/step - loss: 0.4168 - accuracy: 0.8017\n",
            "Epoch 16/100\n",
            "804/804 [==============================] - 2s 3ms/step - loss: 0.4165 - accuracy: 0.8008\n",
            "Epoch 17/100\n",
            "804/804 [==============================] - 2s 3ms/step - loss: 0.4155 - accuracy: 0.8016\n",
            "Epoch 18/100\n",
            "804/804 [==============================] - 2s 3ms/step - loss: 0.4153 - accuracy: 0.8024\n",
            "Epoch 19/100\n",
            "804/804 [==============================] - 2s 3ms/step - loss: 0.4145 - accuracy: 0.8022\n",
            "Epoch 20/100\n",
            "804/804 [==============================] - 2s 3ms/step - loss: 0.4139 - accuracy: 0.8036\n",
            "Epoch 21/100\n",
            "804/804 [==============================] - 3s 3ms/step - loss: 0.4131 - accuracy: 0.8033\n",
            "Epoch 22/100\n",
            "804/804 [==============================] - 4s 5ms/step - loss: 0.4131 - accuracy: 0.8032\n",
            "Epoch 23/100\n",
            "804/804 [==============================] - 4s 4ms/step - loss: 0.4127 - accuracy: 0.8041\n",
            "Epoch 24/100\n",
            "804/804 [==============================] - 5s 6ms/step - loss: 0.4119 - accuracy: 0.8035\n",
            "Epoch 25/100\n",
            "804/804 [==============================] - 4s 5ms/step - loss: 0.4118 - accuracy: 0.8040\n",
            "Epoch 26/100\n",
            "804/804 [==============================] - 2s 3ms/step - loss: 0.4116 - accuracy: 0.8038\n",
            "Epoch 27/100\n",
            "804/804 [==============================] - 2s 3ms/step - loss: 0.4114 - accuracy: 0.8045\n",
            "Epoch 28/100\n",
            "804/804 [==============================] - 2s 3ms/step - loss: 0.4105 - accuracy: 0.8050\n",
            "Epoch 29/100\n",
            "804/804 [==============================] - 2s 3ms/step - loss: 0.4103 - accuracy: 0.8043\n",
            "Epoch 30/100\n",
            "804/804 [==============================] - 2s 3ms/step - loss: 0.4101 - accuracy: 0.8046\n",
            "Epoch 31/100\n",
            "804/804 [==============================] - 3s 4ms/step - loss: 0.4097 - accuracy: 0.8058\n",
            "Epoch 32/100\n",
            "804/804 [==============================] - 4s 5ms/step - loss: 0.4096 - accuracy: 0.8051\n",
            "Epoch 33/100\n",
            "804/804 [==============================] - 3s 4ms/step - loss: 0.4090 - accuracy: 0.8057\n",
            "Epoch 34/100\n",
            "804/804 [==============================] - 5s 7ms/step - loss: 0.4087 - accuracy: 0.8054\n",
            "Epoch 35/100\n",
            "804/804 [==============================] - 7s 9ms/step - loss: 0.4084 - accuracy: 0.8054\n",
            "Epoch 36/100\n",
            "804/804 [==============================] - 5s 6ms/step - loss: 0.4077 - accuracy: 0.8052\n",
            "Epoch 37/100\n",
            "804/804 [==============================] - 3s 4ms/step - loss: 0.4078 - accuracy: 0.8059\n",
            "Epoch 38/100\n",
            "804/804 [==============================] - 2s 3ms/step - loss: 0.4078 - accuracy: 0.8057\n",
            "Epoch 39/100\n",
            "804/804 [==============================] - 2s 3ms/step - loss: 0.4075 - accuracy: 0.8058\n",
            "Epoch 40/100\n",
            "804/804 [==============================] - 2s 3ms/step - loss: 0.4071 - accuracy: 0.8067\n",
            "Epoch 41/100\n",
            "804/804 [==============================] - 2s 3ms/step - loss: 0.4070 - accuracy: 0.8064\n",
            "Epoch 42/100\n",
            "804/804 [==============================] - 3s 4ms/step - loss: 0.4067 - accuracy: 0.8070\n",
            "Epoch 43/100\n",
            "804/804 [==============================] - 6s 7ms/step - loss: 0.4062 - accuracy: 0.8064\n",
            "Epoch 44/100\n",
            "804/804 [==============================] - 6s 8ms/step - loss: 0.4067 - accuracy: 0.8067\n",
            "Epoch 45/100\n",
            "804/804 [==============================] - 4s 5ms/step - loss: 0.4059 - accuracy: 0.8073\n",
            "Epoch 46/100\n",
            "804/804 [==============================] - 4s 4ms/step - loss: 0.4057 - accuracy: 0.8065\n",
            "Epoch 47/100\n",
            "804/804 [==============================] - 2s 3ms/step - loss: 0.4058 - accuracy: 0.8057\n",
            "Epoch 48/100\n",
            "804/804 [==============================] - 2s 3ms/step - loss: 0.4051 - accuracy: 0.8056\n",
            "Epoch 49/100\n",
            "804/804 [==============================] - 2s 3ms/step - loss: 0.4051 - accuracy: 0.8068\n",
            "Epoch 50/100\n",
            "804/804 [==============================] - 2s 3ms/step - loss: 0.4053 - accuracy: 0.8069\n",
            "Epoch 51/100\n",
            "804/804 [==============================] - 4s 6ms/step - loss: 0.4054 - accuracy: 0.8071\n",
            "Epoch 52/100\n",
            "804/804 [==============================] - 5s 7ms/step - loss: 0.4051 - accuracy: 0.8071\n",
            "Epoch 53/100\n",
            "804/804 [==============================] - 7s 9ms/step - loss: 0.4046 - accuracy: 0.8070\n",
            "Epoch 54/100\n",
            "804/804 [==============================] - 5s 6ms/step - loss: 0.4045 - accuracy: 0.8075\n",
            "Epoch 55/100\n",
            "804/804 [==============================] - 4s 4ms/step - loss: 0.4039 - accuracy: 0.8081\n",
            "Epoch 56/100\n",
            "804/804 [==============================] - 2s 3ms/step - loss: 0.4043 - accuracy: 0.8072\n",
            "Epoch 57/100\n",
            "804/804 [==============================] - 2s 3ms/step - loss: 0.4040 - accuracy: 0.8069\n",
            "Epoch 58/100\n",
            "804/804 [==============================] - 4s 5ms/step - loss: 0.4040 - accuracy: 0.8069\n",
            "Epoch 59/100\n",
            "804/804 [==============================] - 5s 6ms/step - loss: 0.4037 - accuracy: 0.8073\n",
            "Epoch 60/100\n",
            "804/804 [==============================] - 8s 10ms/step - loss: 0.4038 - accuracy: 0.8068\n",
            "Epoch 61/100\n",
            "804/804 [==============================] - 5s 7ms/step - loss: 0.4039 - accuracy: 0.8084\n",
            "Epoch 62/100\n",
            "804/804 [==============================] - 5s 6ms/step - loss: 0.4043 - accuracy: 0.8076\n",
            "Epoch 63/100\n",
            "804/804 [==============================] - 3s 3ms/step - loss: 0.4042 - accuracy: 0.8077\n",
            "Epoch 64/100\n",
            "804/804 [==============================] - 3s 3ms/step - loss: 0.4037 - accuracy: 0.8075\n",
            "Epoch 65/100\n",
            "804/804 [==============================] - 4s 5ms/step - loss: 0.4033 - accuracy: 0.8077\n",
            "Epoch 66/100\n",
            "804/804 [==============================] - 6s 8ms/step - loss: 0.4034 - accuracy: 0.8083\n",
            "Epoch 67/100\n",
            "804/804 [==============================] - 5s 6ms/step - loss: 0.4034 - accuracy: 0.8077\n",
            "Epoch 68/100\n",
            "804/804 [==============================] - 5s 6ms/step - loss: 0.4031 - accuracy: 0.8079\n",
            "Epoch 69/100\n",
            "804/804 [==============================] - 2s 3ms/step - loss: 0.4030 - accuracy: 0.8077\n",
            "Epoch 70/100\n",
            "804/804 [==============================] - 2s 3ms/step - loss: 0.4029 - accuracy: 0.8078\n",
            "Epoch 71/100\n",
            "804/804 [==============================] - 3s 3ms/step - loss: 0.4029 - accuracy: 0.8081\n",
            "Epoch 72/100\n",
            "804/804 [==============================] - 2s 3ms/step - loss: 0.4026 - accuracy: 0.8079\n",
            "Epoch 73/100\n",
            "804/804 [==============================] - 3s 4ms/step - loss: 0.4024 - accuracy: 0.8085\n",
            "Epoch 74/100\n",
            "804/804 [==============================] - 4s 5ms/step - loss: 0.4026 - accuracy: 0.8084\n",
            "Epoch 75/100\n",
            "804/804 [==============================] - 4s 5ms/step - loss: 0.4021 - accuracy: 0.8085\n",
            "Epoch 76/100\n",
            "804/804 [==============================] - 4s 6ms/step - loss: 0.4026 - accuracy: 0.8089\n",
            "Epoch 77/100\n",
            "804/804 [==============================] - 4s 5ms/step - loss: 0.4022 - accuracy: 0.8080\n",
            "Epoch 78/100\n",
            "804/804 [==============================] - 2s 3ms/step - loss: 0.4020 - accuracy: 0.8087\n",
            "Epoch 79/100\n",
            "804/804 [==============================] - 2s 3ms/step - loss: 0.4026 - accuracy: 0.8079\n",
            "Epoch 80/100\n",
            "804/804 [==============================] - 2s 3ms/step - loss: 0.4022 - accuracy: 0.8079\n",
            "Epoch 81/100\n",
            "804/804 [==============================] - 2s 3ms/step - loss: 0.4023 - accuracy: 0.8079\n",
            "Epoch 82/100\n",
            "804/804 [==============================] - 2s 3ms/step - loss: 0.4023 - accuracy: 0.8076\n",
            "Epoch 83/100\n",
            "804/804 [==============================] - 4s 4ms/step - loss: 0.4019 - accuracy: 0.8076\n",
            "Epoch 84/100\n",
            "804/804 [==============================] - 5s 7ms/step - loss: 0.4018 - accuracy: 0.8080\n",
            "Epoch 85/100\n",
            "804/804 [==============================] - 5s 7ms/step - loss: 0.4022 - accuracy: 0.8084\n",
            "Epoch 86/100\n",
            "804/804 [==============================] - 3s 4ms/step - loss: 0.4017 - accuracy: 0.8084\n",
            "Epoch 87/100\n",
            "804/804 [==============================] - 2s 3ms/step - loss: 0.4018 - accuracy: 0.8082\n",
            "Epoch 88/100\n",
            "804/804 [==============================] - 2s 3ms/step - loss: 0.4015 - accuracy: 0.8085\n",
            "Epoch 89/100\n",
            "804/804 [==============================] - 3s 4ms/step - loss: 0.4013 - accuracy: 0.8093\n",
            "Epoch 90/100\n",
            "804/804 [==============================] - 3s 3ms/step - loss: 0.4017 - accuracy: 0.8085\n",
            "Epoch 91/100\n",
            "804/804 [==============================] - 2s 3ms/step - loss: 0.4017 - accuracy: 0.8091\n",
            "Epoch 92/100\n",
            "804/804 [==============================] - 3s 3ms/step - loss: 0.4017 - accuracy: 0.8081\n",
            "Epoch 93/100\n",
            "804/804 [==============================] - 4s 5ms/step - loss: 0.4012 - accuracy: 0.8090\n",
            "Epoch 94/100\n",
            "804/804 [==============================] - 5s 7ms/step - loss: 0.4011 - accuracy: 0.8082\n",
            "Epoch 95/100\n",
            "804/804 [==============================] - 4s 5ms/step - loss: 0.4016 - accuracy: 0.8085\n",
            "Epoch 96/100\n",
            "804/804 [==============================] - 4s 5ms/step - loss: 0.4015 - accuracy: 0.8089\n",
            "Epoch 97/100\n",
            "804/804 [==============================] - 2s 3ms/step - loss: 0.4011 - accuracy: 0.8086\n",
            "Epoch 98/100\n",
            "804/804 [==============================] - 2s 3ms/step - loss: 0.4015 - accuracy: 0.8088\n",
            "Epoch 99/100\n",
            "804/804 [==============================] - 2s 3ms/step - loss: 0.4010 - accuracy: 0.8091\n",
            "Epoch 100/100\n",
            "804/804 [==============================] - 2s 3ms/step - loss: 0.4015 - accuracy: 0.8090\n"
          ]
        }
      ]
    },
    {
      "cell_type": "code",
      "source": [
        "# Evaluate the model using the test data\n",
        "model_loss, model_accuracy = nn.evaluate(X_test_scaled,y_test,verbose=2)\n",
        "print(f\"Loss: {model_loss}, Accuracy: {model_accuracy}\")"
      ],
      "metadata": {
        "colab": {
          "base_uri": "https://localhost:8080/"
        },
        "id": "0LsGjF28hbG-",
        "outputId": "ad4cb35b-e6e2-4923-c485-2885ce85e7e1"
      },
      "execution_count": 17,
      "outputs": [
        {
          "output_type": "stream",
          "name": "stdout",
          "text": [
            "268/268 - 1s - loss: 0.4476 - accuracy: 0.7867 - 584ms/epoch - 2ms/step\n",
            "Loss: 0.44758594036102295, Accuracy: 0.7867055535316467\n"
          ]
        }
      ]
    },
    {
      "cell_type": "code",
      "source": [
        "# Export our model to HDF5 file\n",
        "nn.save(\"AlphabetSoupCharity_Optimization.h5\")"
      ],
      "metadata": {
        "id": "vCvv_5jhhgNC"
      },
      "execution_count": 18,
      "outputs": []
    },
    {
      "cell_type": "markdown",
      "source": [
        "USE A RANDOM FOREST CLASSIFIER ON THE DATASET"
      ],
      "metadata": {
        "id": "m5jSjFvLk1-q"
      }
    },
    {
      "cell_type": "code",
      "source": [
        "from sklearn.metrics import accuracy_score\n",
        "from sklearn.ensemble import RandomForestClassifier"
      ],
      "metadata": {
        "id": "vf647wrEiC-E"
      },
      "execution_count": 19,
      "outputs": []
    },
    {
      "cell_type": "code",
      "source": [
        "# Create a random forest classifier.\n",
        "\n",
        "\n",
        "# Fitting the model\n",
        "\n",
        "\n",
        "# Evaluate the model\n"
      ],
      "metadata": {
        "colab": {
          "base_uri": "https://localhost:8080/"
        },
        "id": "BhW_6YaOiFUb",
        "outputId": "d250dc11-5fe4-4e04-cb3b-0a66de548550"
      },
      "execution_count": 20,
      "outputs": [
        {
          "output_type": "stream",
          "name": "stdout",
          "text": [
            " Random forest model accuracy: 77.62%\n"
          ]
        }
      ]
    }
  ],
  "metadata": {
    "kernelspec": {
      "display_name": "Python 3",
      "language": "python",
      "name": "python3"
    },
    "language_info": {
      "codemirror_mode": {
        "name": "ipython",
        "version": 3
      },
      "file_extension": ".py",
      "mimetype": "text/x-python",
      "name": "python",
      "nbconvert_exporter": "python",
      "pygments_lexer": "ipython3",
      "version": "3.7.6"
    },
    "colab": {
      "name": "Part 3 and 4 - Starter_Code.ipynb",
      "provenance": [],
      "collapsed_sections": []
    }
  },
  "nbformat": 4,
  "nbformat_minor": 0
}